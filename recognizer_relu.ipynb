{
 "cells": [
  {
   "cell_type": "code",
   "execution_count": 1,
   "metadata": {},
   "outputs": [
    {
     "name": "stdout",
     "output_type": "stream",
     "text": [
      "hdf5 is not supported on this machine (please install/reinstall h5py for optimal experience)\n"
     ]
    }
   ],
   "source": [
    "import tflearn"
   ]
  },
  {
   "cell_type": "code",
   "execution_count": 2,
   "metadata": {},
   "outputs": [],
   "source": [
    "from tflearn.layers.conv import conv_2d, max_pool_2d\n",
    "from tflearn.layers.core import input_data, dropout, fully_connected\n",
    "from tflearn.layers.estimator import regression"
   ]
  },
  {
   "cell_type": "code",
   "execution_count": 3,
   "metadata": {},
   "outputs": [],
   "source": [
    "import cv2\n",
    "import numpy as np\n",
    "import os\n",
    "from random import shuffle\n",
    "import glob"
   ]
  },
  {
   "cell_type": "code",
   "execution_count": 4,
   "metadata": {},
   "outputs": [],
   "source": [
    "train_dir1=\"/home/spartan/Desktop/RedCarpet_Project/Fruit-Images-Dataset-master/Training/Apple Braeburn\"\n",
    "train_dir2=\"/home/spartan/Desktop/RedCarpet_Project/Fruit-Images-Dataset-master/Training/Apple Golden 1\"\n",
    "train_dir3=\"/home/spartan/Desktop/RedCarpet_Project/Fruit-Images-Dataset-master/Training/Apple Golden 2\"\n",
    "train_dir4=\"/home/spartan/Desktop/RedCarpet_Project/Fruit-Images-Dataset-master/Training/Apple Golden 3\"\n",
    "train_dir5=\"/home/spartan/Desktop/RedCarpet_Project/Fruit-Images-Dataset-master/Training/Apple Granny Smith\"\n",
    "train_dir6=\"/home/spartan/Desktop/RedCarpet_Project/Fruit-Images-Dataset-master/Training/Apple Red 1\"\n",
    "train_dir7=\"/home/spartan/Desktop/RedCarpet_Project/Fruit-Images-Dataset-master/Training/Apple Red 2\"\n",
    "train_dir8=\"/home/spartan/Desktop/RedCarpet_Project/Fruit-Images-Dataset-master/Training/Banana\"\n",
    "train_dir9=\"/home/spartan/Desktop/RedCarpet_Project/Fruit-Images-Dataset-master/Training/Banana Red\"\n",
    "train_dir10=\"/home/spartan/Desktop/RedCarpet_Project/Fruit-Images-Dataset-master/Training/Dates\"\n",
    "train_dir11=\"/home/spartan/Desktop/RedCarpet_Project/Fruit-Images-Dataset-master/Training/Pineapple\"\n",
    "train_dir12=\"/home/spartan/Desktop/RedCarpet_Project/Fruit-Images-Dataset-master/Training/Raspberry\"\n",
    "test_dir= \"/home/spartan/Desktop/RedCarpet_Project/Fruit-Images-Dataset-master/Validation/Apple Red 1\""
   ]
  },
  {
   "cell_type": "code",
   "execution_count": 5,
   "metadata": {},
   "outputs": [],
   "source": [
    "a=[train_dir1,train_dir2,train_dir3,train_dir4,train_dir5,train_dir6,train_dir7]\n"
   ]
  },
  {
   "cell_type": "code",
   "execution_count": 6,
   "metadata": {},
   "outputs": [],
   "source": [
    "training_data=[]\n",
    "for i in a:\n",
    "    filenames=glob.glob(i+\"/*.jpg\")\n",
    "    IMG_SIZE=80\n",
    "    for f in filenames:\n",
    "        img=cv2.imread(f)\n",
    "        img = cv2.resize(img, (IMG_SIZE,IMG_SIZE)) #resizing image\n",
    "        normalizedImg = np.zeros((IMG_SIZE,IMG_SIZE))\n",
    "        normalizedImg = cv2.normalize(img,  normalizedImg, 0,255, cv2.NORM_MINMAX)#normalizing and scaling\n",
    "        img = cv2.cvtColor( normalizedImg, cv2.COLOR_RGB2GRAY )\n",
    "        training_data.append([np.array(img),np.array([1,0])])\n",
    "    \n",
    "    \n",
    "    \n",
    "\n",
    "\n",
    "    "
   ]
  },
  {
   "cell_type": "code",
   "execution_count": 7,
   "metadata": {},
   "outputs": [],
   "source": [
    "b=[train_dir8,train_dir9,train_dir10,train_dir11,train_dir12]\n",
    "for i in b:\n",
    "    filenames=glob.glob(i+\"/*.jpg\")\n",
    "    IMG_SIZE=80\n",
    "    for f in filenames:\n",
    "        img=cv2.imread(f)\n",
    "        img = cv2.resize(img, (IMG_SIZE,IMG_SIZE)) #resizing image\n",
    "        normalizedImg = np.zeros((IMG_SIZE,IMG_SIZE))\n",
    "        normalizedImg = cv2.normalize(img,  normalizedImg, 0,255, cv2.NORM_MINMAX)#normalizing and scaling\n",
    "        img = cv2.cvtColor( normalizedImg, cv2.COLOR_RGB2GRAY )\n",
    "        training_data.append([np.array(img),np.array([0,1])])\n",
    "    "
   ]
  },
  {
   "cell_type": "code",
   "execution_count": 8,
   "metadata": {},
   "outputs": [],
   "source": [
    "shuffle(training_data) #shuffling training data so that same distribution "
   ]
  },
  {
   "cell_type": "code",
   "execution_count": 9,
   "metadata": {},
   "outputs": [],
   "source": [
    "filenames=glob.glob(test_dir+\"/*.jpg\")\n",
    "test_data=[]\n",
    "IMG_SIZE=80\n",
    "for f in filenames:\n",
    "    img=cv2.imread(f)\n",
    "    img = cv2.resize(img, (IMG_SIZE,IMG_SIZE)) #resizing image\n",
    "    normalizedImg = np.zeros((IMG_SIZE,IMG_SIZE))\n",
    "    normalizedImg = cv2.normalize(img,  normalizedImg, 0,255, cv2.NORM_MINMAX)#normalizing and scaling\n",
    "    img = cv2.cvtColor( normalizedImg, cv2.COLOR_RGB2GRAY )\n",
    "    test_data.append([np.array(img),np.array([1,0])])"
   ]
  },
  {
   "cell_type": "code",
   "execution_count": 10,
   "metadata": {},
   "outputs": [],
   "source": [
    "import tensorflow as tf\n",
    "tf.reset_default_graph()"
   ]
  },
  {
   "cell_type": "code",
   "execution_count": 13,
   "metadata": {},
   "outputs": [
    {
     "name": "stdout",
     "output_type": "stream",
     "text": [
      "Training Step: 183  | total loss: \u001b[1m\u001b[32m0.00008\u001b[0m\u001b[0m | time: 180.699s\n",
      "| Adam | epoch: 002 | loss: 0.00008 - acc: 1.0000 -- iter: 5824/5883\n",
      "Training Step: 184  | total loss: \u001b[1m\u001b[32m0.00007\u001b[0m\u001b[0m | time: 184.739s\n",
      "| Adam | epoch: 002 | loss: 0.00007 - acc: 1.0000 | val_loss: 0.00000 - val_acc: 1.0000 -- iter: 5883/5883\n",
      "--\n"
     ]
    }
   ],
   "source": [
    "LR = 1e-3\n",
    "MODEL_NAME='apple detector1'\n",
    "import tensorflow as tf\n",
    "tf.reset_default_graph()\n",
    "\n",
    "convnet = input_data(shape=[None, IMG_SIZE, IMG_SIZE, 1], name='input')\n",
    "\n",
    "convnet = conv_2d(convnet, 32, 5, activation='relu')\n",
    "convnet = max_pool_2d(convnet, 5)\n",
    "\n",
    "convnet = conv_2d(convnet, 64, 5, activation='relu')\n",
    "convnet = max_pool_2d(convnet, 5)\n",
    "\n",
    "convnet = conv_2d(convnet, 128, 5, activation='relu')\n",
    "convnet = max_pool_2d(convnet, 5)\n",
    "\n",
    "convnet = conv_2d(convnet, 64, 5, activation='relu')\n",
    "convnet = max_pool_2d(convnet, 5)\n",
    "\n",
    "convnet = conv_2d(convnet, 32, 5, activation='relu')\n",
    "convnet = max_pool_2d(convnet, 5)\n",
    "\n",
    "convnet = fully_connected(convnet, 1024, activation='relu')\n",
    "convnet = dropout(convnet, 0.8)\n",
    "\n",
    "convnet = fully_connected(convnet, 2, activation='softmax')\n",
    "convnet = regression(convnet, optimizer='adam', learning_rate=LR, loss='categorical_crossentropy', name='targets')\n",
    "\n",
    "model = tflearn.DNN(convnet, tensorboard_dir='log')\n",
    "\n",
    "\n",
    "\n",
    "if os.path.exists('{}.meta'.format(MODEL_NAME)):\n",
    "    model.load(MODEL_NAME)\n",
    "    print('model loaded!')\n",
    "\n",
    "train = training_data\n",
    "test = test_data\n",
    "\n",
    "X = np.array([i[0] for i in training_data]).reshape(-1,IMG_SIZE,IMG_SIZE,1)\n",
    "Y = [i[1] for i in training_data]\n",
    "\n",
    "test_x = np.array([i[0] for i in test_data]).reshape(-1,IMG_SIZE,IMG_SIZE,1)\n",
    "test_y = [i[1] for i in test_data]\n",
    "\n",
    "model.fit({'input': X}, {'targets': Y}, n_epoch=2, validation_set=({'input': test_x}, {'targets': test_y}), \n",
    "    snapshot_step=500, show_metric=True)\n",
    "\n"
   ]
  },
  {
   "cell_type": "code",
   "execution_count": 77,
   "metadata": {},
   "outputs": [],
   "source": [
    "image=cv2.imread(\"/home/spartan/Desktop/RedCarpet_Project/Fruit-Images-Dataset-master/Validation/Banana/102_100.jpg\")\n",
    "img = cv2.resize(image, (IMG_SIZE,IMG_SIZE))\n",
    "normalizedImg = np.zeros((IMG_SIZE,IMG_SIZE))\n",
    "normalizedImg = cv2.normalize(img,  normalizedImg, 0,255, cv2.NORM_MINMAX)#normalizing and scaling\n",
    "img = cv2.cvtColor( normalizedImg, cv2.COLOR_RGB2GRAY )"
   ]
  },
  {
   "cell_type": "code",
   "execution_count": 78,
   "metadata": {},
   "outputs": [],
   "source": [
    "a=model.predict(img.reshape(-1,IMG_SIZE,IMG_SIZE,1))\n"
   ]
  },
  {
   "cell_type": "code",
   "execution_count": 79,
   "metadata": {},
   "outputs": [
    {
     "name": "stdout",
     "output_type": "stream",
     "text": [
      "no,not a apple\n"
     ]
    }
   ],
   "source": [
    "if(a[0][0]>a[0][1]):\n",
    "    print('yes,this is apple')\n",
    "else:\n",
    "    print('no,not a apple')\n"
   ]
  },
  {
   "cell_type": "code",
   "execution_count": 81,
   "metadata": {},
   "outputs": [],
   "source": [
    "#To covert data into tfrecord file\n",
    "from PIL import Image\n",
    "import numpy as np\n",
    "import skimage.io as io\n",
    "import tensorflow as tf\n",
    "import glob\n",
    "\n",
    "\n",
    "def _bytes_feature(value):\n",
    "    return tf.train.Feature(bytes_list=tf.train.BytesList(value=[value]))\n",
    "\n",
    "def _int64_feature(value):\n",
    "    return tf.train.Feature(int64_list=tf.train.Int64List(value=[value]))\n",
    "\n",
    "tfrecords_filename = 'pascal_voc_segmentation.tfrecords'\n",
    "\n",
    "writer = tf.python_io.TFRecordWriter(tfrecords_filename)\n",
    "\n",
    "\n",
    "original_images = []\n",
    "train_dir1=\"/home/spartan/Desktop/RedCarpet_Project/Fruit-Images-Dataset-master/Training/Apple Braeburn\"\n",
    "filenames=glob.glob(train_dir1+\"/*.jpg\")\n",
    "\n",
    "for img_path in filenames:\n",
    "    \n",
    "    img = np.array(Image.open(img_path))\n",
    "   \n",
    "    \n",
    "    \n",
    "    height = img.shape[0]\n",
    "    width = img.shape[1]\n",
    "    \n",
    "    \n",
    "    original_images.append((img))\n",
    "    \n",
    "    img_raw = img.tostring()\n",
    "    \n",
    "    \n",
    "    example = tf.train.Example(features=tf.train.Features(feature={\n",
    "        'height': _int64_feature(height),\n",
    "        'width': _int64_feature(width),\n",
    "        'image_raw': _bytes_feature(img_raw),\n",
    "        }))\n",
    "    \n",
    "    writer.write(example.SerializeToString())\n",
    "\n",
    "writer.close()"
   ]
  },
  {
   "cell_type": "code",
   "execution_count": null,
   "metadata": {},
   "outputs": [],
   "source": []
  }
 ],
 "metadata": {
  "kernelspec": {
   "display_name": "Python 3",
   "language": "python",
   "name": "python3"
  },
  "language_info": {
   "codemirror_mode": {
    "name": "ipython",
    "version": 3
   },
   "file_extension": ".py",
   "mimetype": "text/x-python",
   "name": "python",
   "nbconvert_exporter": "python",
   "pygments_lexer": "ipython3",
   "version": "3.5.2"
  }
 },
 "nbformat": 4,
 "nbformat_minor": 2
}
